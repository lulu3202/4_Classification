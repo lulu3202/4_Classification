{
 "cells": [
  {
   "cell_type": "code",
   "execution_count": 1,
   "id": "0774efb0",
   "metadata": {},
   "outputs": [],
   "source": [
    "#importing the Libraies\n",
    "import numpy as np\n",
    "import matplotlib.pyplot as plt\n",
    "import pandas as pd"
   ]
  },
  {
   "cell_type": "code",
   "execution_count": 2,
   "id": "1a6219c4",
   "metadata": {},
   "outputs": [],
   "source": [
    "dataset=pd.read_csv(\"Social_Network_Ads.csv\")"
   ]
  },
  {
   "cell_type": "code",
   "execution_count": 3,
   "id": "eef29249",
   "metadata": {},
   "outputs": [
    {
     "data": {
      "text/html": [
       "<div>\n",
       "<style scoped>\n",
       "    .dataframe tbody tr th:only-of-type {\n",
       "        vertical-align: middle;\n",
       "    }\n",
       "\n",
       "    .dataframe tbody tr th {\n",
       "        vertical-align: top;\n",
       "    }\n",
       "\n",
       "    .dataframe thead th {\n",
       "        text-align: right;\n",
       "    }\n",
       "</style>\n",
       "<table border=\"1\" class=\"dataframe\">\n",
       "  <thead>\n",
       "    <tr style=\"text-align: right;\">\n",
       "      <th></th>\n",
       "      <th>User ID</th>\n",
       "      <th>Gender</th>\n",
       "      <th>Age</th>\n",
       "      <th>EstimatedSalary</th>\n",
       "      <th>Purchased</th>\n",
       "    </tr>\n",
       "  </thead>\n",
       "  <tbody>\n",
       "    <tr>\n",
       "      <th>0</th>\n",
       "      <td>15624510</td>\n",
       "      <td>Male</td>\n",
       "      <td>19</td>\n",
       "      <td>19000</td>\n",
       "      <td>0</td>\n",
       "    </tr>\n",
       "    <tr>\n",
       "      <th>1</th>\n",
       "      <td>15810944</td>\n",
       "      <td>Male</td>\n",
       "      <td>35</td>\n",
       "      <td>20000</td>\n",
       "      <td>0</td>\n",
       "    </tr>\n",
       "    <tr>\n",
       "      <th>2</th>\n",
       "      <td>15668575</td>\n",
       "      <td>Female</td>\n",
       "      <td>26</td>\n",
       "      <td>43000</td>\n",
       "      <td>0</td>\n",
       "    </tr>\n",
       "    <tr>\n",
       "      <th>3</th>\n",
       "      <td>15603246</td>\n",
       "      <td>Female</td>\n",
       "      <td>27</td>\n",
       "      <td>57000</td>\n",
       "      <td>0</td>\n",
       "    </tr>\n",
       "    <tr>\n",
       "      <th>4</th>\n",
       "      <td>15804002</td>\n",
       "      <td>Male</td>\n",
       "      <td>19</td>\n",
       "      <td>76000</td>\n",
       "      <td>0</td>\n",
       "    </tr>\n",
       "    <tr>\n",
       "      <th>...</th>\n",
       "      <td>...</td>\n",
       "      <td>...</td>\n",
       "      <td>...</td>\n",
       "      <td>...</td>\n",
       "      <td>...</td>\n",
       "    </tr>\n",
       "    <tr>\n",
       "      <th>395</th>\n",
       "      <td>15691863</td>\n",
       "      <td>Female</td>\n",
       "      <td>46</td>\n",
       "      <td>41000</td>\n",
       "      <td>1</td>\n",
       "    </tr>\n",
       "    <tr>\n",
       "      <th>396</th>\n",
       "      <td>15706071</td>\n",
       "      <td>Male</td>\n",
       "      <td>51</td>\n",
       "      <td>23000</td>\n",
       "      <td>1</td>\n",
       "    </tr>\n",
       "    <tr>\n",
       "      <th>397</th>\n",
       "      <td>15654296</td>\n",
       "      <td>Female</td>\n",
       "      <td>50</td>\n",
       "      <td>20000</td>\n",
       "      <td>1</td>\n",
       "    </tr>\n",
       "    <tr>\n",
       "      <th>398</th>\n",
       "      <td>15755018</td>\n",
       "      <td>Male</td>\n",
       "      <td>36</td>\n",
       "      <td>33000</td>\n",
       "      <td>0</td>\n",
       "    </tr>\n",
       "    <tr>\n",
       "      <th>399</th>\n",
       "      <td>15594041</td>\n",
       "      <td>Female</td>\n",
       "      <td>49</td>\n",
       "      <td>36000</td>\n",
       "      <td>1</td>\n",
       "    </tr>\n",
       "  </tbody>\n",
       "</table>\n",
       "<p>400 rows × 5 columns</p>\n",
       "</div>"
      ],
      "text/plain": [
       "      User ID  Gender  Age  EstimatedSalary  Purchased\n",
       "0    15624510    Male   19            19000          0\n",
       "1    15810944    Male   35            20000          0\n",
       "2    15668575  Female   26            43000          0\n",
       "3    15603246  Female   27            57000          0\n",
       "4    15804002    Male   19            76000          0\n",
       "..        ...     ...  ...              ...        ...\n",
       "395  15691863  Female   46            41000          1\n",
       "396  15706071    Male   51            23000          1\n",
       "397  15654296  Female   50            20000          1\n",
       "398  15755018    Male   36            33000          0\n",
       "399  15594041  Female   49            36000          1\n",
       "\n",
       "[400 rows x 5 columns]"
      ]
     },
     "execution_count": 3,
     "metadata": {},
     "output_type": "execute_result"
    }
   ],
   "source": [
    "dataset"
   ]
  },
  {
   "cell_type": "code",
   "execution_count": 4,
   "id": "6991ecdc",
   "metadata": {},
   "outputs": [],
   "source": [
    "#converting categorical to numerical value\n",
    "dataset=pd.get_dummies(dataset,dtype=int, drop_first=True)"
   ]
  },
  {
   "cell_type": "code",
   "execution_count": 5,
   "id": "0f8a2cdb",
   "metadata": {},
   "outputs": [
    {
     "data": {
      "text/html": [
       "<div>\n",
       "<style scoped>\n",
       "    .dataframe tbody tr th:only-of-type {\n",
       "        vertical-align: middle;\n",
       "    }\n",
       "\n",
       "    .dataframe tbody tr th {\n",
       "        vertical-align: top;\n",
       "    }\n",
       "\n",
       "    .dataframe thead th {\n",
       "        text-align: right;\n",
       "    }\n",
       "</style>\n",
       "<table border=\"1\" class=\"dataframe\">\n",
       "  <thead>\n",
       "    <tr style=\"text-align: right;\">\n",
       "      <th></th>\n",
       "      <th>User ID</th>\n",
       "      <th>Age</th>\n",
       "      <th>EstimatedSalary</th>\n",
       "      <th>Purchased</th>\n",
       "      <th>Gender_Male</th>\n",
       "    </tr>\n",
       "  </thead>\n",
       "  <tbody>\n",
       "    <tr>\n",
       "      <th>0</th>\n",
       "      <td>15624510</td>\n",
       "      <td>19</td>\n",
       "      <td>19000</td>\n",
       "      <td>0</td>\n",
       "      <td>1</td>\n",
       "    </tr>\n",
       "    <tr>\n",
       "      <th>1</th>\n",
       "      <td>15810944</td>\n",
       "      <td>35</td>\n",
       "      <td>20000</td>\n",
       "      <td>0</td>\n",
       "      <td>1</td>\n",
       "    </tr>\n",
       "    <tr>\n",
       "      <th>2</th>\n",
       "      <td>15668575</td>\n",
       "      <td>26</td>\n",
       "      <td>43000</td>\n",
       "      <td>0</td>\n",
       "      <td>0</td>\n",
       "    </tr>\n",
       "    <tr>\n",
       "      <th>3</th>\n",
       "      <td>15603246</td>\n",
       "      <td>27</td>\n",
       "      <td>57000</td>\n",
       "      <td>0</td>\n",
       "      <td>0</td>\n",
       "    </tr>\n",
       "    <tr>\n",
       "      <th>4</th>\n",
       "      <td>15804002</td>\n",
       "      <td>19</td>\n",
       "      <td>76000</td>\n",
       "      <td>0</td>\n",
       "      <td>1</td>\n",
       "    </tr>\n",
       "    <tr>\n",
       "      <th>...</th>\n",
       "      <td>...</td>\n",
       "      <td>...</td>\n",
       "      <td>...</td>\n",
       "      <td>...</td>\n",
       "      <td>...</td>\n",
       "    </tr>\n",
       "    <tr>\n",
       "      <th>395</th>\n",
       "      <td>15691863</td>\n",
       "      <td>46</td>\n",
       "      <td>41000</td>\n",
       "      <td>1</td>\n",
       "      <td>0</td>\n",
       "    </tr>\n",
       "    <tr>\n",
       "      <th>396</th>\n",
       "      <td>15706071</td>\n",
       "      <td>51</td>\n",
       "      <td>23000</td>\n",
       "      <td>1</td>\n",
       "      <td>1</td>\n",
       "    </tr>\n",
       "    <tr>\n",
       "      <th>397</th>\n",
       "      <td>15654296</td>\n",
       "      <td>50</td>\n",
       "      <td>20000</td>\n",
       "      <td>1</td>\n",
       "      <td>0</td>\n",
       "    </tr>\n",
       "    <tr>\n",
       "      <th>398</th>\n",
       "      <td>15755018</td>\n",
       "      <td>36</td>\n",
       "      <td>33000</td>\n",
       "      <td>0</td>\n",
       "      <td>1</td>\n",
       "    </tr>\n",
       "    <tr>\n",
       "      <th>399</th>\n",
       "      <td>15594041</td>\n",
       "      <td>49</td>\n",
       "      <td>36000</td>\n",
       "      <td>1</td>\n",
       "      <td>0</td>\n",
       "    </tr>\n",
       "  </tbody>\n",
       "</table>\n",
       "<p>400 rows × 5 columns</p>\n",
       "</div>"
      ],
      "text/plain": [
       "      User ID  Age  EstimatedSalary  Purchased  Gender_Male\n",
       "0    15624510   19            19000          0            1\n",
       "1    15810944   35            20000          0            1\n",
       "2    15668575   26            43000          0            0\n",
       "3    15603246   27            57000          0            0\n",
       "4    15804002   19            76000          0            1\n",
       "..        ...  ...              ...        ...          ...\n",
       "395  15691863   46            41000          1            0\n",
       "396  15706071   51            23000          1            1\n",
       "397  15654296   50            20000          1            0\n",
       "398  15755018   36            33000          0            1\n",
       "399  15594041   49            36000          1            0\n",
       "\n",
       "[400 rows x 5 columns]"
      ]
     },
     "execution_count": 5,
     "metadata": {},
     "output_type": "execute_result"
    }
   ],
   "source": [
    "dataset"
   ]
  },
  {
   "cell_type": "code",
   "execution_count": 6,
   "id": "be431b81",
   "metadata": {},
   "outputs": [],
   "source": [
    "dataset=dataset.drop(\"User ID\",axis=1)"
   ]
  },
  {
   "cell_type": "code",
   "execution_count": 7,
   "id": "af2b1703",
   "metadata": {},
   "outputs": [
    {
     "data": {
      "text/plain": [
       "Purchased\n",
       "0    257\n",
       "1    143\n",
       "Name: count, dtype: int64"
      ]
     },
     "execution_count": 7,
     "metadata": {},
     "output_type": "execute_result"
    }
   ],
   "source": [
    "dataset[\"Purchased\"].value_counts()"
   ]
  },
  {
   "cell_type": "code",
   "execution_count": 8,
   "id": "3eefd36f",
   "metadata": {},
   "outputs": [],
   "source": [
    "indep=dataset[[\"Age\",\"EstimatedSalary\",\"Gender_Male\"]]\n",
    "dep=dataset[\"Purchased\"]"
   ]
  },
  {
   "cell_type": "code",
   "execution_count": 9,
   "id": "3b4d25a1",
   "metadata": {},
   "outputs": [
    {
     "data": {
      "text/plain": [
       "(400, 3)"
      ]
     },
     "execution_count": 9,
     "metadata": {},
     "output_type": "execute_result"
    }
   ],
   "source": [
    "indep.shape"
   ]
  },
  {
   "cell_type": "code",
   "execution_count": 10,
   "id": "144dfc3e",
   "metadata": {},
   "outputs": [
    {
     "data": {
      "text/plain": [
       "0      0\n",
       "1      0\n",
       "2      0\n",
       "3      0\n",
       "4      0\n",
       "      ..\n",
       "395    1\n",
       "396    1\n",
       "397    1\n",
       "398    0\n",
       "399    1\n",
       "Name: Purchased, Length: 400, dtype: int64"
      ]
     },
     "execution_count": 10,
     "metadata": {},
     "output_type": "execute_result"
    }
   ],
   "source": [
    "dep"
   ]
  },
  {
   "cell_type": "code",
   "execution_count": 11,
   "id": "57cebc83",
   "metadata": {},
   "outputs": [],
   "source": [
    "#split into training set and test\n",
    "from sklearn.model_selection import train_test_split\n",
    "X_train, X_test, y_train, y_test = train_test_split(indep, dep, test_size = 1/3, random_state = 0)"
   ]
  },
  {
   "cell_type": "code",
   "execution_count": 12,
   "id": "e04aecaf",
   "metadata": {},
   "outputs": [
    {
     "name": "stdout",
     "output_type": "stream",
     "text": [
      "Fitting 5 folds for each of 10 candidates, totalling 50 fits\n",
      "Best Parameters: {'alpha': 0.1, 'norm': False}\n",
      "Best Estimator: ComplementNB(alpha=0.1)\n"
     ]
    }
   ],
   "source": [
    "from sklearn.naive_bayes import ComplementNB\n",
    "from sklearn.model_selection import GridSearchCV\n",
    "from sklearn.metrics import confusion_matrix, classification_report\n",
    "\n",
    "# Define the parameter grid for GridSearchCV\n",
    "param_grid = {\n",
    "    'alpha': [0.1, 0.5, 1.0, 1.5, 2.0],  # Smoothing parameter\n",
    "    'norm': [True, False]  # Whether to normalize the weights\n",
    "}\n",
    "\n",
    "# Set up the GridSearchCV object\n",
    "grid = GridSearchCV(ComplementNB(), param_grid, \n",
    "                    refit=True, verbose=3, n_jobs=-1, scoring='f1_weighted')\n",
    "\n",
    "# Fitting the model for grid search\n",
    "grid.fit(X_train, y_train)\n",
    "\n",
    "# To see the best parameters and the best estimator\n",
    "print(\"Best Parameters:\", grid.best_params_)\n",
    "print(\"Best Estimator:\", grid.best_estimator_)\n"
   ]
  },
  {
   "cell_type": "code",
   "execution_count": 13,
   "id": "c15bfbe4",
   "metadata": {},
   "outputs": [],
   "source": [
    "# Store cross-validation results\n",
    "cv_results = grid.cv_results_\n",
    "# Uncomment to print all cross-validation results\n",
    "# print(cv_results)\n",
    "\n",
    "\n",
    "# print best parameter after tuning \n",
    "#print(grid.best_params_) \n",
    "re=grid.cv_results_\n",
    "#print(re)\n",
    "\n",
    "# Using the final best fit model to test X_test\n",
    "grid_predictions = grid.predict(X_test)"
   ]
  },
  {
   "cell_type": "code",
   "execution_count": 14,
   "id": "bf89c6f3",
   "metadata": {
    "scrolled": true
   },
   "outputs": [],
   "source": [
    "# Compute and print the confusion matrix\n",
    "from sklearn.metrics import confusion_matrix\n",
    "cm = confusion_matrix(y_test,grid_predictions )  "
   ]
  },
  {
   "cell_type": "code",
   "execution_count": 15,
   "id": "31d770f8-1650-4b71-a35a-f592e4b94d6d",
   "metadata": {},
   "outputs": [],
   "source": [
    "from sklearn.metrics import classification_report\n",
    "clf_report = classification_report(y_test, grid_predictions)"
   ]
  },
  {
   "cell_type": "code",
   "execution_count": 16,
   "id": "3ccbff10",
   "metadata": {},
   "outputs": [
    {
     "name": "stdout",
     "output_type": "stream",
     "text": [
      "              precision    recall  f1-score   support\n",
      "\n",
      "           0       0.67      0.47      0.55        85\n",
      "           1       0.39      0.59      0.47        49\n",
      "\n",
      "    accuracy                           0.51       134\n",
      "   macro avg       0.53      0.53      0.51       134\n",
      "weighted avg       0.57      0.51      0.52       134\n",
      "\n"
     ]
    }
   ],
   "source": [
    "print(clf_report)"
   ]
  },
  {
   "cell_type": "code",
   "execution_count": 17,
   "id": "18636d3a-3d37-495f-b11a-73dfdba03e37",
   "metadata": {},
   "outputs": [
    {
     "data": {
      "text/plain": [
       "np.float64(0.5834333733493396)"
      ]
     },
     "execution_count": 17,
     "metadata": {},
     "output_type": "execute_result"
    }
   ],
   "source": [
    "from sklearn.metrics import roc_auc_score\n",
    "\n",
    "roc_auc_score(y_test,grid.predict_proba(X_test)[:,1])"
   ]
  },
  {
   "cell_type": "code",
   "execution_count": 18,
   "id": "884789d0",
   "metadata": {},
   "outputs": [
    {
     "name": "stdout",
     "output_type": "stream",
     "text": [
      "[[40 45]\n",
      " [20 29]]\n"
     ]
    }
   ],
   "source": [
    "print(cm)"
   ]
  },
  {
   "cell_type": "code",
   "execution_count": 19,
   "id": "163e5154",
   "metadata": {},
   "outputs": [
    {
     "name": "stderr",
     "output_type": "stream",
     "text": [
      "C:\\Anaconda\\envs\\aiml\\Lib\\site-packages\\sklearn\\base.py:493: UserWarning: X does not have valid feature names, but ComplementNB was fitted with feature names\n",
      "  warnings.warn(\n"
     ]
    },
    {
     "data": {
      "text/plain": [
       "array([0])"
      ]
     },
     "execution_count": 19,
     "metadata": {},
     "output_type": "execute_result"
    }
   ],
   "source": [
    "grid.predict([[40,300,1,]])"
   ]
  },
  {
   "cell_type": "code",
   "execution_count": 20,
   "id": "7671488a-a987-4861-9454-4aa5ea963c3f",
   "metadata": {},
   "outputs": [],
   "source": [
    "table=pd.DataFrame.from_dict(re)"
   ]
  },
  {
   "cell_type": "code",
   "execution_count": 21,
   "id": "b8582c5b-f943-47b5-9cda-d7a63ebbc88c",
   "metadata": {},
   "outputs": [
    {
     "data": {
      "text/html": [
       "<div>\n",
       "<style scoped>\n",
       "    .dataframe tbody tr th:only-of-type {\n",
       "        vertical-align: middle;\n",
       "    }\n",
       "\n",
       "    .dataframe tbody tr th {\n",
       "        vertical-align: top;\n",
       "    }\n",
       "\n",
       "    .dataframe thead th {\n",
       "        text-align: right;\n",
       "    }\n",
       "</style>\n",
       "<table border=\"1\" class=\"dataframe\">\n",
       "  <thead>\n",
       "    <tr style=\"text-align: right;\">\n",
       "      <th></th>\n",
       "      <th>mean_fit_time</th>\n",
       "      <th>std_fit_time</th>\n",
       "      <th>mean_score_time</th>\n",
       "      <th>std_score_time</th>\n",
       "      <th>param_alpha</th>\n",
       "      <th>param_norm</th>\n",
       "      <th>params</th>\n",
       "      <th>split0_test_score</th>\n",
       "      <th>split1_test_score</th>\n",
       "      <th>split2_test_score</th>\n",
       "      <th>split3_test_score</th>\n",
       "      <th>split4_test_score</th>\n",
       "      <th>mean_test_score</th>\n",
       "      <th>std_test_score</th>\n",
       "      <th>rank_test_score</th>\n",
       "    </tr>\n",
       "  </thead>\n",
       "  <tbody>\n",
       "    <tr>\n",
       "      <th>0</th>\n",
       "      <td>0.016625</td>\n",
       "      <td>0.002947</td>\n",
       "      <td>0.472251</td>\n",
       "      <td>0.416930</td>\n",
       "      <td>0.1</td>\n",
       "      <td>True</td>\n",
       "      <td>{'alpha': 0.1, 'norm': True}</td>\n",
       "      <td>0.183156</td>\n",
       "      <td>0.172203</td>\n",
       "      <td>0.189203</td>\n",
       "      <td>0.189203</td>\n",
       "      <td>0.189203</td>\n",
       "      <td>0.184594</td>\n",
       "      <td>0.006623</td>\n",
       "      <td>6</td>\n",
       "    </tr>\n",
       "    <tr>\n",
       "      <th>1</th>\n",
       "      <td>0.015994</td>\n",
       "      <td>0.005048</td>\n",
       "      <td>0.432055</td>\n",
       "      <td>0.288650</td>\n",
       "      <td>0.1</td>\n",
       "      <td>False</td>\n",
       "      <td>{'alpha': 0.1, 'norm': False}</td>\n",
       "      <td>0.509839</td>\n",
       "      <td>0.614012</td>\n",
       "      <td>0.563318</td>\n",
       "      <td>0.482156</td>\n",
       "      <td>0.556133</td>\n",
       "      <td>0.545092</td>\n",
       "      <td>0.045624</td>\n",
       "      <td>1</td>\n",
       "    </tr>\n",
       "    <tr>\n",
       "      <th>2</th>\n",
       "      <td>0.024595</td>\n",
       "      <td>0.023240</td>\n",
       "      <td>0.024537</td>\n",
       "      <td>0.010315</td>\n",
       "      <td>0.5</td>\n",
       "      <td>True</td>\n",
       "      <td>{'alpha': 0.5, 'norm': True}</td>\n",
       "      <td>0.183156</td>\n",
       "      <td>0.172203</td>\n",
       "      <td>0.189203</td>\n",
       "      <td>0.189203</td>\n",
       "      <td>0.189203</td>\n",
       "      <td>0.184594</td>\n",
       "      <td>0.006623</td>\n",
       "      <td>6</td>\n",
       "    </tr>\n",
       "    <tr>\n",
       "      <th>3</th>\n",
       "      <td>0.014062</td>\n",
       "      <td>0.001842</td>\n",
       "      <td>0.014927</td>\n",
       "      <td>0.002355</td>\n",
       "      <td>0.5</td>\n",
       "      <td>False</td>\n",
       "      <td>{'alpha': 0.5, 'norm': False}</td>\n",
       "      <td>0.509839</td>\n",
       "      <td>0.614012</td>\n",
       "      <td>0.563318</td>\n",
       "      <td>0.482156</td>\n",
       "      <td>0.556133</td>\n",
       "      <td>0.545092</td>\n",
       "      <td>0.045624</td>\n",
       "      <td>1</td>\n",
       "    </tr>\n",
       "    <tr>\n",
       "      <th>4</th>\n",
       "      <td>0.011686</td>\n",
       "      <td>0.002815</td>\n",
       "      <td>0.013988</td>\n",
       "      <td>0.006561</td>\n",
       "      <td>1.0</td>\n",
       "      <td>True</td>\n",
       "      <td>{'alpha': 1.0, 'norm': True}</td>\n",
       "      <td>0.183156</td>\n",
       "      <td>0.172203</td>\n",
       "      <td>0.189203</td>\n",
       "      <td>0.189203</td>\n",
       "      <td>0.189203</td>\n",
       "      <td>0.184594</td>\n",
       "      <td>0.006623</td>\n",
       "      <td>6</td>\n",
       "    </tr>\n",
       "    <tr>\n",
       "      <th>5</th>\n",
       "      <td>0.008765</td>\n",
       "      <td>0.003157</td>\n",
       "      <td>0.011692</td>\n",
       "      <td>0.003415</td>\n",
       "      <td>1.0</td>\n",
       "      <td>False</td>\n",
       "      <td>{'alpha': 1.0, 'norm': False}</td>\n",
       "      <td>0.509839</td>\n",
       "      <td>0.614012</td>\n",
       "      <td>0.563318</td>\n",
       "      <td>0.482156</td>\n",
       "      <td>0.556133</td>\n",
       "      <td>0.545092</td>\n",
       "      <td>0.045624</td>\n",
       "      <td>1</td>\n",
       "    </tr>\n",
       "    <tr>\n",
       "      <th>6</th>\n",
       "      <td>0.013688</td>\n",
       "      <td>0.003239</td>\n",
       "      <td>0.015507</td>\n",
       "      <td>0.003870</td>\n",
       "      <td>1.5</td>\n",
       "      <td>True</td>\n",
       "      <td>{'alpha': 1.5, 'norm': True}</td>\n",
       "      <td>0.183156</td>\n",
       "      <td>0.172203</td>\n",
       "      <td>0.189203</td>\n",
       "      <td>0.189203</td>\n",
       "      <td>0.189203</td>\n",
       "      <td>0.184594</td>\n",
       "      <td>0.006623</td>\n",
       "      <td>6</td>\n",
       "    </tr>\n",
       "    <tr>\n",
       "      <th>7</th>\n",
       "      <td>0.009631</td>\n",
       "      <td>0.002539</td>\n",
       "      <td>0.015991</td>\n",
       "      <td>0.008636</td>\n",
       "      <td>1.5</td>\n",
       "      <td>False</td>\n",
       "      <td>{'alpha': 1.5, 'norm': False}</td>\n",
       "      <td>0.509839</td>\n",
       "      <td>0.614012</td>\n",
       "      <td>0.563318</td>\n",
       "      <td>0.482156</td>\n",
       "      <td>0.556133</td>\n",
       "      <td>0.545092</td>\n",
       "      <td>0.045624</td>\n",
       "      <td>1</td>\n",
       "    </tr>\n",
       "    <tr>\n",
       "      <th>8</th>\n",
       "      <td>0.011178</td>\n",
       "      <td>0.003459</td>\n",
       "      <td>0.013054</td>\n",
       "      <td>0.005082</td>\n",
       "      <td>2.0</td>\n",
       "      <td>True</td>\n",
       "      <td>{'alpha': 2.0, 'norm': True}</td>\n",
       "      <td>0.183156</td>\n",
       "      <td>0.172203</td>\n",
       "      <td>0.189203</td>\n",
       "      <td>0.189203</td>\n",
       "      <td>0.189203</td>\n",
       "      <td>0.184594</td>\n",
       "      <td>0.006623</td>\n",
       "      <td>6</td>\n",
       "    </tr>\n",
       "    <tr>\n",
       "      <th>9</th>\n",
       "      <td>0.015643</td>\n",
       "      <td>0.004311</td>\n",
       "      <td>0.015258</td>\n",
       "      <td>0.002342</td>\n",
       "      <td>2.0</td>\n",
       "      <td>False</td>\n",
       "      <td>{'alpha': 2.0, 'norm': False}</td>\n",
       "      <td>0.509839</td>\n",
       "      <td>0.614012</td>\n",
       "      <td>0.547170</td>\n",
       "      <td>0.482156</td>\n",
       "      <td>0.556133</td>\n",
       "      <td>0.541862</td>\n",
       "      <td>0.044783</td>\n",
       "      <td>5</td>\n",
       "    </tr>\n",
       "  </tbody>\n",
       "</table>\n",
       "</div>"
      ],
      "text/plain": [
       "   mean_fit_time  std_fit_time  mean_score_time  std_score_time  param_alpha  \\\n",
       "0       0.016625      0.002947         0.472251        0.416930          0.1   \n",
       "1       0.015994      0.005048         0.432055        0.288650          0.1   \n",
       "2       0.024595      0.023240         0.024537        0.010315          0.5   \n",
       "3       0.014062      0.001842         0.014927        0.002355          0.5   \n",
       "4       0.011686      0.002815         0.013988        0.006561          1.0   \n",
       "5       0.008765      0.003157         0.011692        0.003415          1.0   \n",
       "6       0.013688      0.003239         0.015507        0.003870          1.5   \n",
       "7       0.009631      0.002539         0.015991        0.008636          1.5   \n",
       "8       0.011178      0.003459         0.013054        0.005082          2.0   \n",
       "9       0.015643      0.004311         0.015258        0.002342          2.0   \n",
       "\n",
       "   param_norm                         params  split0_test_score  \\\n",
       "0        True   {'alpha': 0.1, 'norm': True}           0.183156   \n",
       "1       False  {'alpha': 0.1, 'norm': False}           0.509839   \n",
       "2        True   {'alpha': 0.5, 'norm': True}           0.183156   \n",
       "3       False  {'alpha': 0.5, 'norm': False}           0.509839   \n",
       "4        True   {'alpha': 1.0, 'norm': True}           0.183156   \n",
       "5       False  {'alpha': 1.0, 'norm': False}           0.509839   \n",
       "6        True   {'alpha': 1.5, 'norm': True}           0.183156   \n",
       "7       False  {'alpha': 1.5, 'norm': False}           0.509839   \n",
       "8        True   {'alpha': 2.0, 'norm': True}           0.183156   \n",
       "9       False  {'alpha': 2.0, 'norm': False}           0.509839   \n",
       "\n",
       "   split1_test_score  split2_test_score  split3_test_score  split4_test_score  \\\n",
       "0           0.172203           0.189203           0.189203           0.189203   \n",
       "1           0.614012           0.563318           0.482156           0.556133   \n",
       "2           0.172203           0.189203           0.189203           0.189203   \n",
       "3           0.614012           0.563318           0.482156           0.556133   \n",
       "4           0.172203           0.189203           0.189203           0.189203   \n",
       "5           0.614012           0.563318           0.482156           0.556133   \n",
       "6           0.172203           0.189203           0.189203           0.189203   \n",
       "7           0.614012           0.563318           0.482156           0.556133   \n",
       "8           0.172203           0.189203           0.189203           0.189203   \n",
       "9           0.614012           0.547170           0.482156           0.556133   \n",
       "\n",
       "   mean_test_score  std_test_score  rank_test_score  \n",
       "0         0.184594        0.006623                6  \n",
       "1         0.545092        0.045624                1  \n",
       "2         0.184594        0.006623                6  \n",
       "3         0.545092        0.045624                1  \n",
       "4         0.184594        0.006623                6  \n",
       "5         0.545092        0.045624                1  \n",
       "6         0.184594        0.006623                6  \n",
       "7         0.545092        0.045624                1  \n",
       "8         0.184594        0.006623                6  \n",
       "9         0.541862        0.044783                5  "
      ]
     },
     "execution_count": 21,
     "metadata": {},
     "output_type": "execute_result"
    }
   ],
   "source": [
    "table"
   ]
  }
 ],
 "metadata": {
  "kernelspec": {
   "display_name": "Python 3 (ipykernel)",
   "language": "python",
   "name": "python3"
  },
  "language_info": {
   "codemirror_mode": {
    "name": "ipython",
    "version": 3
   },
   "file_extension": ".py",
   "mimetype": "text/x-python",
   "name": "python",
   "nbconvert_exporter": "python",
   "pygments_lexer": "ipython3",
   "version": "3.12.4"
  }
 },
 "nbformat": 4,
 "nbformat_minor": 5
}
