{
 "cells": [
  {
   "cell_type": "code",
   "execution_count": 3,
   "id": "dd0fcd08-b389-4f71-ac88-0d79e72f22e1",
   "metadata": {},
   "outputs": [],
   "source": [
    "import pickle\n",
    "from sklearn.preprocessing import StandardScaler\n",
    "sc = StandardScaler()"
   ]
  },
  {
   "cell_type": "code",
   "execution_count": 7,
   "id": "e94d5deb-9cb9-4fcf-81f5-5aea734a375c",
   "metadata": {},
   "outputs": [],
   "source": [
    "#provide preprocessed input instead of providing the input directly \n",
    "loaded_model=pickle.load(open(\"finalized_model_LR.sav\",'rb'))\n",
    "sc=pickle.load(open(\"sc.pkl\",'rb'))\n"
   ]
  },
  {
   "cell_type": "code",
   "execution_count": null,
   "id": "4e101f96-d0c1-4110-9de7-85be9fc05cb6",
   "metadata": {},
   "outputs": [],
   "source": []
  },
  {
   "cell_type": "code",
   "execution_count": 8,
   "id": "022d4a75-4c1c-47bc-9402-42d917127bf7",
   "metadata": {},
   "outputs": [
    {
     "name": "stderr",
     "output_type": "stream",
     "text": [
      "C:\\Anaconda\\envs\\aiml\\Lib\\site-packages\\sklearn\\base.py:493: UserWarning: X does not have valid feature names, but StandardScaler was fitted with feature names\n",
      "  warnings.warn(\n"
     ]
    }
   ],
   "source": [
    "preinput = sc.transform([[2,76.4,3,0,148,57,3,137,4.6,12.5,38.86,8408,4.70,0,1,0,0,1,0,0,0,0,0,0,1,1,0]])"
   ]
  },
  {
   "cell_type": "code",
   "execution_count": 9,
   "id": "ba95a62c-d3ec-4c04-8488-8469297dfb8d",
   "metadata": {},
   "outputs": [],
   "source": [
    "\n",
    "result=loaded_model.predict(preinput)"
   ]
  },
  {
   "cell_type": "code",
   "execution_count": 10,
   "id": "48f9f66c-fca9-4eae-aa68-e749065e3839",
   "metadata": {},
   "outputs": [
    {
     "data": {
      "text/plain": [
       "array([1])"
      ]
     },
     "execution_count": 10,
     "metadata": {},
     "output_type": "execute_result"
    }
   ],
   "source": [
    "result"
   ]
  },
  {
   "cell_type": "code",
   "execution_count": null,
   "id": "085c2f21-7684-442e-bd16-46b9da98b362",
   "metadata": {},
   "outputs": [],
   "source": []
  }
 ],
 "metadata": {
  "kernelspec": {
   "display_name": "Python 3 (ipykernel)",
   "language": "python",
   "name": "python3"
  },
  "language_info": {
   "codemirror_mode": {
    "name": "ipython",
    "version": 3
   },
   "file_extension": ".py",
   "mimetype": "text/x-python",
   "name": "python",
   "nbconvert_exporter": "python",
   "pygments_lexer": "ipython3",
   "version": "3.12.4"
  }
 },
 "nbformat": 4,
 "nbformat_minor": 5
}
